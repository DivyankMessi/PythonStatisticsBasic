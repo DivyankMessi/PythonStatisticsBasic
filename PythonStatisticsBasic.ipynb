{
 "cells": [
  {
   "cell_type": "markdown",
   "metadata": {},
   "source": [
    "# PythonStatisticsBasic "
   ]
  },
  {
   "cell_type": "markdown",
   "metadata": {},
   "source": [
    "## Theory Questions "
   ]
  },
  {
   "cell_type": "markdown",
   "metadata": {},
   "source": [
    "### Question 1:  Explain the different types of data (qualitative and quantitative) and provide examples of each. Discuss nominal, ordinal, interval, and ratio scales."
   ]
  },
  {
   "cell_type": "markdown",
   "metadata": {},
   "source": [
    "Answer : Qualitative data is non-numerical data, while quantitative data is numerical data. The level of measurement for data can be nominal, ordinal, interval, or ratio. The level of measurement determines how you can analyze the data. \n",
    "\n",
    "__Qualitative data__\n",
    "Non-numerical data that can include descriptions, observations, and opinions \n",
    "Examples: Interview transcripts, product reviews, diary accounts, photographs, and case studies.\n",
    "\n",
    "__Quantitative data__\n",
    "Numerical data that can be counted or measured \n",
    "Examples: Height, weight, income, temperature, test scores, and population size.\n",
    "\n",
    "__Nominal data__\n",
    "Data that can only be categorized \n",
    "Examples: Gender, race, hair color, and country.\n",
    "\n",
    "__Ordinal data__\n",
    "Data that can be categorized and ranked \n",
    "Examples: Education level, income range, grades, interest level, and satisfaction level.\n",
    "\n",
    "__Interval data__\n",
    "Data that can be categorized, ranked, and evenly spaced \n",
    "Examples: Temperature, IQ, SAT scores, time of day, age, income range, and voltage.\n",
    "\n",
    "__Ratio data__\n",
    "Data that can be categorized, ranked, evenly spaced, and has a natural zero \n",
    "Examples\n",
    "Income, height, weight, and other variables that have a clear definition of zero "
   ]
  },
  {
   "cell_type": "markdown",
   "metadata": {},
   "source": [
    "### Question 2:  What are the measures of central tendency, and when should you use each? Discuss the mean, median, and mode with examples and situations where each is appropriate."
   ]
  },
  {
   "cell_type": "markdown",
   "metadata": {},
   "source": [
    "Answer : Measures of central tendency summarize a dataset by identifying its central point or typical value. The three primary measures are the mean, median, and mode. Each is suited for specific types of data and situations.\n",
    "\n",
    "__1. Mean__\n",
    "\n",
    "The mean is the arithmetic average of a dataset. It is calculated by dividing the sum of all values by the total number of values.\n",
    "\n",
    "Example:\n",
    "For the dataset: \n",
    "4,6,8,10,12\n",
    "Mean= (4+6+8+10+12)/5=8\n",
    "\n",
    "When to Use:\n",
    "The data is quantitative and symmetrically distributed.\n",
    "There are no extreme outliers.\n",
    "\n",
    "When Not to Use:\n",
    "If the dataset contains outliers (e.g., 1, 2, 3, 100), as the mean is sensitive to them.\n",
    "\n",
    "\n",
    "__2. Median__\n",
    "\n",
    "The median is the middle value when the data is ordered from smallest to largest. If the dataset has an even number of values, the median is the average of the two middle numbers.\n",
    "\n",
    "Example:\n",
    "Odd dataset: \n",
    "3,7,9,12,15\n",
    "Median = 9 (middle value).\n",
    "\n",
    "Even dataset: \n",
    "3,7,9,12\n",
    "Median = (7+9)/2 = 8\n",
    "\n",
    "When to Use:\n",
    "The data is skewed or has extreme outliers.\n",
    "The data is ordinal (has an inherent order).\n",
    "When Not to Use:\n",
    "When you need a measure that considers all data points.\n",
    "\n",
    "\n",
    "__3. Mode__\n",
    "\n",
    "The mode is the most frequently occurring value(s) in a dataset. A dataset may have one mode (unimodal), two modes (bimodal), or more (multimodal). If no value repeats, there is no mode.\n",
    "\n",
    "Example:\n",
    "Dataset with a mode: \n",
    "2,3,4,4,5,6\n",
    "Mode = 4\n",
    "Bimodal dataset: \n",
    "1,2,2,3,4,4,5\n",
    "Modes = 2 and 4.\n",
    "\n",
    "When to Use:\n",
    "The data is categorical (e.g., most popular product).\n",
    "You need to identify the most common value in a dataset.\n",
    "\n",
    "When Not to Use:\n",
    "If the dataset has no repeating values.\n",
    "If the dataset is continuous with no clear frequency."
   ]
  },
  {
   "cell_type": "markdown",
   "metadata": {},
   "source": [
    "### Question 3:  Explain the concept of dispersion. How do variance and standard deviation measure the spread of data?"
   ]
  },
  {
   "cell_type": "markdown",
   "metadata": {},
   "source": [
    "Asnwer : Dispersion refers to the degree to which data values in a dataset are spread out or scattered. While measures of central tendency (like mean, median, and mode) describe the center of the data, measures of dispersion provide insight into how much the data varies around that center.\n",
    "\n",
    "Key Purposes of Dispersion:\n",
    "\n",
    "Understand the variability in the data.\n",
    "Compare the spread of different datasets.\n",
    "Identify consistency or inconsistency in the data.\n",
    "Variance and Standard Deviation: Measuring the Spread\n",
    "Both variance and standard deviation quantify how much the data deviates from the mean.\n",
    "\n",
    "__1. Variance__\n",
    "Variance measures the average squared deviation of each data point from the mean. It gives a numerical value for the spread of the data.\n",
    "\n",
    "__2. Standard Deviation__\n",
    "Standard deviation is the square root of the variance. It is expressed in the same units as the data, making it more interpretable."
   ]
  },
  {
   "cell_type": "markdown",
   "metadata": {},
   "source": [
    "### Question 4: What is a box plot, and what can it tell you about the distribution of data?"
   ]
  },
  {
   "cell_type": "markdown",
   "metadata": {},
   "source": [
    "Answer: A box plot is a graphical representation of a dataset's distribution, summarizing its central tendency, variability, and skewness. It uses a five-number summary to display the data's spread and highlights potential outliers.\n",
    "\n",
    "What a Box Plot Tells You About the Distribution\n",
    "\n",
    "Central Tendency: The median gives the central value of the dataset.\n",
    "Spread: The IQR and whiskers show the variability in the dataset.\n",
    "Skewness: The relative lengths of the whiskers and position of the median indicate skewness.\n",
    "Outliers: Points outside the whiskers indicate unusual or extreme values."
   ]
  },
  {
   "cell_type": "markdown",
   "metadata": {},
   "source": [
    "### Question 5: Discuss the role of random sampling in making inferences about populations."
   ]
  },
  {
   "cell_type": "markdown",
   "metadata": {},
   "source": [
    "Answer : Random sampling is a method that helps researchers make inferences about a population by selecting a small, representative sample from a larger population. It's a fundamental form of probability sampling, where every member of the population has an equal chance of being chosen.\n",
    "\n",
    "Why is random sampling important?\n",
    "\n",
    "Reduces bias: Randomization helps to reduce the impact of potential confounding variables and the chances of bias in the sample selection process.\n",
    "\n",
    "Increases accuracy: A random sample can provide accurate and reliable results.\n",
    "\n",
    "Saves time and money: Random sampling can reduce the cost and time required for data collection.\n",
    "\n",
    "Improves research validity: Random sampling can help to improve the validity and reliability of research studies."
   ]
  },
  {
   "cell_type": "markdown",
   "metadata": {},
   "source": [
    "### Question 6: Explain the concept of skewness and its types. How does skewness affect the interpretation of data?"
   ]
  },
  {
   "cell_type": "markdown",
   "metadata": {},
   "source": [
    "Answer: Skewness is a statistical measurement of how asymmetrical a distribution is. It can be positive, negative, or zero. Skewness can help identify outliers and provide insight into the shape of a distribution. \n",
    "\n",
    "How does skewness affect data interpretation?\n",
    "Skewness can make data non-normal, which can prevent statistical analyses or affect the results \n",
    "Skewness can help identify outliers and extreme values in the data \n",
    "Skewness can provide insights into the shape of the distribution and how it's spread out \n",
    "\n",
    "How do you measure skewness? \n",
    "Pearson mode skewness and Pearson median skewness are two common methods for measuring skewness\n",
    "Pearson mode skewness is used when the data has a strong mode\n",
    "Pearson median skewness is used when the data has multiple modes or a weak mode"
   ]
  },
  {
   "cell_type": "markdown",
   "metadata": {},
   "source": [
    "### Question 7: What is the interquartile range (IQR), and how is it used to detect outliers?"
   ]
  },
  {
   "cell_type": "markdown",
   "metadata": {},
   "source": [
    "Answer : IQR is used to measure variability by dividing a data set into quartiles. The data is sorted in ascending order and split into 4 equal parts. Q1, Q2, Q3 called first, second and third quartiles are the values which separate the 4 equal parts.\n",
    "\n",
    "Q1 represents the 25th percentile of the data.\n",
    "\n",
    "Q2 represents the 50th percentile of the data.\n",
    "\n",
    "Q3 represents the 75th percentile of the data."
   ]
  },
  {
   "cell_type": "markdown",
   "metadata": {},
   "source": [
    "### Question 8: Discuss the conditions under which the binomial distribution is used."
   ]
  },
  {
   "cell_type": "markdown",
   "metadata": {},
   "source": [
    "Answer : The binomial distribution is used when the following conditions are met:     \n",
    "Fixed number of trials: The number of trials, is fixed and cannot be changed.  \n",
    "Two possible outcomes: Each trial has only two possible outcomes, usually called \"success\" or \"failure\".  \n",
    "Fixed probability of success: The probability of success, is the same for each trial.  \n",
    "Independent trials: The outcome of one trial does not affect the outcome of any other trial. "
   ]
  },
  {
   "cell_type": "markdown",
   "metadata": {},
   "source": [
    "### Question 9:  Explain the properties of the normal distribution and the empirical rule (68-95-99.7 rule)."
   ]
  },
  {
   "cell_type": "markdown",
   "metadata": {},
   "source": [
    "Answer: The empirical rule, also known as the 68-95-99.7 rule, describes how data is distributed in a normal distribution. It's a set of percentages that indicate how much data is within a certain number of standard deviations from the mean.\n",
    "\n",
    "__Explanation__\n",
    "\n",
    "68%: About 68% of data points are within one standard deviation of the mean.\n",
    "\n",
    "95%: About 95% of data points are within two standard deviations of the mean.\n",
    "\n",
    "99.7%: About 99.7% of data points are within three standard deviations of the mean."
   ]
  },
  {
   "cell_type": "markdown",
   "metadata": {},
   "source": [
    "### Question 10: Provide a real-life example of a Poisson process and calculate the probability for a specific event."
   ]
  },
  {
   "cell_type": "markdown",
   "metadata": {},
   "source": [
    "Answer : A Poisson process is a statistical model that can be used to describe events that occur randomly and independently at a constant rate. Here are some examples of Poisson processes in real life: \n",
    "\n",
    "Book sales :\n",
    "A bookstore that sells an average of 10 books per day can use a Poisson distribution to predict how many books it will sell on a given day. \n",
    "\n",
    "Customer arrivals :\n",
    "A cafe that has an average of 2 customers per minute can use a Poisson distribution to predict how many customers will arrive in a given time period. \n",
    "\n",
    "Earthquakes :\n",
    "A city that experiences an average of 4 earthquakes per year can use a Poisson distribution to predict the probability of an earthquake occurring. \n",
    "\n",
    "Overflow floods :\n",
    "A river that experiences an overflow flood once every 100 years on average can use a Poisson distribution to predict the probability of overflow floods in a given time period. "
   ]
  },
  {
   "cell_type": "markdown",
   "metadata": {},
   "source": [
    "### Question 11: Explain what a random variable is and differentiate between discrete and continuous random variables."
   ]
  },
  {
   "cell_type": "markdown",
   "metadata": {},
   "source": [
    "Answer : A random variable is a numerical value that describes the outcome of a statistical experiment. Random variables can be discrete or continuous, depending on whether they can take on a finite or infinite number of values. \n",
    "\n",
    "Discrete random variables :\n",
    "\n",
    "Can only take on a finite number of values \n",
    "Used for counting \n",
    "Examples include the number of heads in a coin toss or the number of dots on a rolled die \n",
    "\n",
    "Continuous random variables :\n",
    "\n",
    "Can take on any value within a continuous range\n",
    "Used for measuring\n",
    "Examples include the weight of an animal or the speed of a train"
   ]
  },
  {
   "cell_type": "markdown",
   "metadata": {},
   "source": [
    "### Question 12:  Provide an example dataset, calculate both covariance and correlation, and interpret the results."
   ]
  },
  {
   "cell_type": "markdown",
   "metadata": {},
   "source": [
    "Answer : Covariance and correlation are the two key concepts in Statistics that help us analyze the relationship between two variables. Covariance measures how two variables change together, indicating whether they move in the same or opposite directions.\n",
    "\n",
    "Dataset:\n",
    "X (Temperature in °C) and Y (Ice Cream Sales in $)\n",
    "X\tY\n",
    "20\t200\n",
    "22\t250\n",
    "25\t300\n",
    "27\t350\n",
    "30\t400\n",
    "\n",
    "Results:\n",
    "\n",
    "Covariance: Positive, indicating higher temperatures correspond to higher ice cream sales.\n",
    "\n",
    "Correlation: Likely close to 1, showing a strong positive linear relationship.\n",
    "\n",
    "Key Takeaways\n",
    "Covariance shows the direction of the relationship (positive or negative).\n",
    "Correlation measures both the strength and direction of the relationship on a standardized scale (\n",
    "Strong correlation suggests a strong linear relationship, while weak correlation suggests a weak relationship.\n"
   ]
  },
  {
   "cell_type": "markdown",
   "metadata": {},
   "source": [
    "### Thank You! "
   ]
  }
 ],
 "metadata": {
  "kernelspec": {
   "display_name": "Python 3",
   "language": "python",
   "name": "python3"
  },
  "language_info": {
   "codemirror_mode": {
    "name": "ipython",
    "version": 3
   },
   "file_extension": ".py",
   "mimetype": "text/x-python",
   "name": "python",
   "nbconvert_exporter": "python",
   "pygments_lexer": "ipython3",
   "version": "3.7.3"
  }
 },
 "nbformat": 4,
 "nbformat_minor": 2
}
